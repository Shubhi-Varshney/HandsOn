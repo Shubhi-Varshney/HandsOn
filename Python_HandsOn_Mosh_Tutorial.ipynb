{
 "cells": [
  {
   "cell_type": "markdown",
   "id": "f9f7f09b",
   "metadata": {},
   "source": [
    "### Small hands on from youtube tutorial video "
   ]
  },
  {
   "cell_type": "code",
   "execution_count": 1,
   "id": "cd56c6df",
   "metadata": {},
   "outputs": [
    {
     "name": "stdout",
     "output_type": "stream",
     "text": [
      "What is your name ? Shubhi\n",
      "What is your favourite colour ?Pink\n",
      "Shubhi likes Pink\n"
     ]
    }
   ],
   "source": [
    "# Variables\n",
    "name = input('What is your name ? ')\n",
    "colour = input('What is your favourite colour ?' )\n",
    "print (name + ' likes ' + colour)"
   ]
  },
  {
   "cell_type": "code",
   "execution_count": 5,
   "id": "5fdfd1fc",
   "metadata": {},
   "outputs": [
    {
     "name": "stdout",
     "output_type": "stream",
     "text": [
      "Enter your weight in pounds :60\n",
      "<class 'str'>\n",
      "<class 'float'>\n",
      "Your weight in kilograms :  27.0\n"
     ]
    }
   ],
   "source": [
    "# Type Conversion\n",
    "weight_pnds = input('Enter your weight in pounds :')\n",
    "print(type(weight_pnds))\n",
    "weight_kg = int(weight_pnds) * 0.45\n",
    "print(type(weight_kg))\n",
    "print('Your weight in kilograms : ', weight_kg)\n",
    "\n"
   ]
  },
  {
   "cell_type": "code",
   "execution_count": 11,
   "id": "55a44c1b",
   "metadata": {},
   "outputs": [
    {
     "name": "stdout",
     "output_type": "stream",
     "text": [
      "e\n",
      "n\n",
      "yth\n",
      "thon for Beginners\n",
      "Python for Beginners\n",
      "ennife\n"
     ]
    }
   ],
   "source": [
    "# Strings\n",
    "name = 'Python for Beginners'\n",
    "print(name[-3])\n",
    "print(name[5])\n",
    "print(name[1:4])\n",
    "print(name[2:])\n",
    "print(name[:])\n",
    "\n",
    "\n",
    "name1 = 'Jennifer'\n",
    "print(name1[1:-1])\n",
    "\n"
   ]
  },
  {
   "cell_type": "code",
   "execution_count": 13,
   "id": "e35e8f9a",
   "metadata": {},
   "outputs": [
    {
     "name": "stdout",
     "output_type": "stream",
     "text": [
      "Shubhi [Jain] is a coder\n"
     ]
    }
   ],
   "source": [
    "# Formatted Strings\n",
    "first = 'Shubhi'\n",
    "last = 'Jain'\n",
    "msg = f'{first} [{last}] is a coder'\n",
    "print(msg)"
   ]
  },
  {
   "cell_type": "code",
   "execution_count": 15,
   "id": "8a79c0c1",
   "metadata": {},
   "outputs": [
    {
     "name": "stdout",
     "output_type": "stream",
     "text": [
      "20\n",
      "Jython for Beginners\n",
      "PYTHON FOR BEGINNERS\n",
      "python for beginners\n",
      "Python For Beginners\n",
      "False\n",
      "False\n",
      "7\n"
     ]
    }
   ],
   "source": [
    "# String methods\n",
    "str = 'Python for Beginners'\n",
    "print(len(str))\n",
    "print(str.replace('P','J'))\n",
    "print(str.upper())\n",
    "print(str.lower())\n",
    "print(str.title())\n",
    "print('Python F' in str)\n",
    "print('Jython' in str)\n",
    "print(str.find('for'))"
   ]
  },
  {
   "cell_type": "code",
   "execution_count": 19,
   "id": "3ba5c47a",
   "metadata": {
    "scrolled": true
   },
   "outputs": [
    {
     "name": "stdout",
     "output_type": "stream",
     "text": [
      "10\n",
      "3\n",
      "14\n",
      "3.5\n",
      "3\n",
      "1\n",
      "49\n",
      "7\n",
      "14\n"
     ]
    }
   ],
   "source": [
    "# Operator\n",
    "num = 7\n",
    "print(num + 3)\n",
    "print(num - 4)\n",
    "print(num * 2)\n",
    "print(num / 2)\n",
    "print(num // 2)\n",
    "print(num % 2 )\n",
    "print(num ** 2)\n",
    "print(num)\n",
    "num += 7\n",
    "print(num)"
   ]
  },
  {
   "cell_type": "code",
   "execution_count": 23,
   "id": "cd70bdc7",
   "metadata": {},
   "outputs": [
    {
     "name": "stdout",
     "output_type": "stream",
     "text": [
      "You need to put down payment of $ 20000.0\n"
     ]
    }
   ],
   "source": [
    "# If Statement\n",
    "price = 1000000\n",
    "good_credit = False\n",
    "if good_credit:\n",
    "    print('You need to put down payment of $',.01*price)\n",
    "else: \n",
    "    print('You need to put down payment of $',.02*price)"
   ]
  },
  {
   "cell_type": "code",
   "execution_count": 26,
   "id": "012cc124",
   "metadata": {},
   "outputs": [
    {
     "name": "stdout",
     "output_type": "stream",
     "text": [
      "Please enter your namedfgljsdfhguoshmsdcnvkjsdhfuislfbv ms cksjdiusdfl sdsdkjsidfulvb dsf.sdifbvuifbsd.\n",
      "Name can be of maximum 50 characters only\n"
     ]
    }
   ],
   "source": [
    "# logical operators\n",
    "name = input(\"Please enter your name\")\n",
    "if len(name) < 3:\n",
    "    print(\"Name should be 3 characters long atleast\")\n",
    "elif len(name) > 50:\n",
    "    print(\"Name can be of maximum 50 characters only\")\n",
    "else:\n",
    "    print(\"Name looks good.\")"
   ]
  },
  {
   "cell_type": "code",
   "execution_count": 31,
   "id": "2abb8371",
   "metadata": {},
   "outputs": [
    {
     "name": "stdout",
     "output_type": "stream",
     "text": [
      "Enter your weight: 130\n",
      "(L)bs or (K)g :l\n",
      "You are 58.5 kg. \n"
     ]
    }
   ],
   "source": [
    "# Weight Convertor Program\n",
    "weight = input(\"Enter your weight: \")\n",
    "unit = input(f'(L)bs or (K)g :')\n",
    "if unit == 'L' or unit == 'l':\n",
    "    conv_weight = float(weight) * 0.45\n",
    "    conv_unit = 'kg'\n",
    "elif unit == 'K' or unit == 'k':\n",
    "    conv_weight = float(weight) * 2.20\n",
    "    conv_unit = 'lbs'\n",
    "else:\n",
    "    print(\"Invalid input. Please enter 'l' or 'k'. \")\n",
    "\n",
    "print(f\"You are {conv_weight} {conv_unit}. \")"
   ]
  },
  {
   "cell_type": "code",
   "execution_count": 37,
   "id": "625ea51b",
   "metadata": {},
   "outputs": [
    {
     "name": "stdout",
     "output_type": "stream",
     "text": [
      "> start\n",
      "Car started, Ready to go !\n",
      "> start\n",
      "Car already started..Hey, what are you doing !!!\n",
      "> stop\n",
      "Car stopped\n",
      "> \n",
      "I don't undertsand\n",
      "> fdns;df\n",
      "I don't undertsand\n",
      "> stop\n",
      "Car already stopped..Hey, what are you doing !!!\n",
      "> start\n",
      "Car already started..Hey, what are you doing !!!\n",
      "> stop\n",
      "Car already stopped..Hey, what are you doing !!!\n",
      "> help\n",
      "start - to start the car\n",
      "stop - to stop the car\n",
      "quit - to exit\n",
      "> quit\n",
      "Sorry for seeing you to go\n"
     ]
    }
   ],
   "source": [
    "# Car program \n",
    "user_input = input('> ').lower()\n",
    "quit_cmd = 'quit'\n",
    "help_cmd = 'help'\n",
    "start_cmd = 'start'\n",
    "stop_cmd = 'stop'\n",
    "int_start = 0\n",
    "int_stop = 0\n",
    "while user_input != quit_cmd:\n",
    "    if user_input == help_cmd:\n",
    "        print('start - to start the car')\n",
    "        print('stop - to stop the car')\n",
    "        print('quit - to exit')\n",
    "    elif user_input == start_cmd:\n",
    "        if int_start == 0:\n",
    "            print('Car started, Ready to go !') \n",
    "            int_start += 1\n",
    "        else:\n",
    "            print('Car already started..Hey, what are you doing !!!')\n",
    "    elif user_input == stop_cmd:\n",
    "        if int_stop == 0:\n",
    "            print('Car stopped')\n",
    "            int_stop += 1\n",
    "        else:\n",
    "            print('Car already stopped..Hey, what are you doing !!!')   \n",
    "    else:\n",
    "        print(\"I don't undertsand\")\n",
    "    user_input = input('> ').lower()\n",
    "else:\n",
    "    print('Sorry for seeing you to go')\n",
    "    "
   ]
  },
  {
   "cell_type": "code",
   "execution_count": 38,
   "id": "58852327",
   "metadata": {},
   "outputs": [
    {
     "name": "stdout",
     "output_type": "stream",
     "text": [
      "The sum of the items in shopping cart : 60\n"
     ]
    }
   ],
   "source": [
    "# For loops\n",
    "prices = [10, 20, 30]\n",
    "total = 0;\n",
    "for item in prices:\n",
    "    total += item\n",
    "\n",
    "print(\"The sum of the items in shopping cart :\", total)\n",
    "    "
   ]
  },
  {
   "cell_type": "code",
   "execution_count": 47,
   "id": "b1a88a50",
   "metadata": {},
   "outputs": [
    {
     "name": "stdout",
     "output_type": "stream",
     "text": [
      "*****\n",
      "**\n",
      "*****\n",
      "**\n",
      "**\n",
      "\n",
      "*****\n",
      "**\n",
      "*****\n",
      "**\n",
      "**\n",
      "\n",
      "*****\n",
      "**\n",
      "*****\n",
      "**\n",
      "**\n"
     ]
    }
   ],
   "source": [
    "# Challenge | Nested loops\n",
    "numbers = [5,2,5,2,2]\n",
    "# Method 1\n",
    "for line in numbers:\n",
    "    no_of_times = line;\n",
    "    str = ''\n",
    "    while no_of_times != 0:\n",
    "        str += '*'\n",
    "        no_of_times -= 1\n",
    "    print(str)    \n",
    "\n",
    "print('''''')\n",
    "# Method 2\n",
    "for line in numbers:\n",
    "    print(line * '*')\n",
    "    \n",
    "print('''''')\n",
    "#Method 3\n",
    "for line in numbers:\n",
    "    str = ''\n",
    "    for count in range(line):\n",
    "        str += '*'\n",
    "    print(str)"
   ]
  },
  {
   "cell_type": "code",
   "execution_count": 49,
   "id": "ef04c5c1",
   "metadata": {},
   "outputs": [
    {
     "name": "stdout",
     "output_type": "stream",
     "text": [
      "The largest item in the list is 67\n"
     ]
    }
   ],
   "source": [
    "# Find the largest number in the list\n",
    "list = [3, 5 , 10, 67, 23]\n",
    "largest = 0\n",
    "\n",
    "for item in list:\n",
    "    if item > largest:\n",
    "        largest = item\n",
    "        \n",
    "print(f'The largest item in the list is {largest}')\n",
    "    "
   ]
  },
  {
   "cell_type": "code",
   "execution_count": 56,
   "id": "23c91436",
   "metadata": {},
   "outputs": [
    {
     "name": "stdout",
     "output_type": "stream",
     "text": [
      "[5, 3, 4, 1]\n",
      "[1, 4, 5, 3]\n"
     ]
    }
   ],
   "source": [
    "# To remove the duplicates\n",
    "list = [1,4,5,3,4,1]\n",
    "list_2 = list.copy()\n",
    "\n",
    "# Method 1 \n",
    "for item in list:\n",
    "    if list.count(item) > 1:\n",
    "        list.remove(item)\n",
    "print(list)\n",
    "\n",
    "# Methos 2\n",
    "\n",
    "uniques = []\n",
    "for item in list_2:\n",
    "    if item not in uniques:\n",
    "        uniques.append(item)\n",
    "print(uniques)\n",
    "\n"
   ]
  },
  {
   "cell_type": "code",
   "execution_count": 61,
   "id": "4fbb6499",
   "metadata": {},
   "outputs": [
    {
     "name": "stdout",
     "output_type": "stream",
     "text": [
      "Phone: 63456\n",
      "Six Three Four Five Six \n"
     ]
    }
   ],
   "source": [
    "# Dictionary\n",
    "number_name = {\n",
    "    \"0\" : \"Zero\",\n",
    "    \"1\" : \"One\",\n",
    "    \"2\" : \"Two\",\n",
    "    \"3\" : \"Three\",\n",
    "    \"4\" : \"Four\",\n",
    "    \"5\" : \"Five\",\n",
    "    \"6\" : \"Six\",\n",
    "    \"7\" : \"Seven\",\n",
    "    \"8\" : \"Eight\",\n",
    "    \"9\" : \"Nine\",\n",
    "    \"10\" : \"Ten\"\n",
    " }\n",
    "\n",
    "inp_no = input(\"Phone: \")\n",
    "output = ''\n",
    "\n",
    "for item in inp_no:\n",
    "    output += number_name.get(item) + ' '\n",
    "    \n",
    "print(output)\n",
    "    \n"
   ]
  },
  {
   "cell_type": "code",
   "execution_count": 63,
   "id": "4ee302cf",
   "metadata": {},
   "outputs": [
    {
     "name": "stdout",
     "output_type": "stream",
     "text": [
      "> I am happy ;-)\n",
      "I am happy 😜 \n"
     ]
    }
   ],
   "source": [
    "# emojis convertor\n",
    "emojis = {\n",
    "    \":)\" :  \"😊\",\n",
    "    \":(\" : \"😒\",\n",
    "    \";-)\" : \"😜\"\n",
    "}\n",
    "\n",
    "message = input('> ')\n",
    "words = message.split(' ')\n",
    "output = ''\n",
    "for item in words:\n",
    "    output += emojis.get(item, item) + ' '\n",
    "\n",
    "print(output)\n",
    "    "
   ]
  },
  {
   "cell_type": "code",
   "execution_count": 64,
   "id": "e0900a37",
   "metadata": {},
   "outputs": [
    {
     "name": "stdout",
     "output_type": "stream",
     "text": [
      "> I am happy.. :)\n",
      "I am happy.. 😊 \n"
     ]
    }
   ],
   "source": [
    "# Emoji convertor in a function \n",
    "\n",
    "def get_emojis(message):\n",
    "    emojis = {\n",
    "    \":)\" :  \"😊\",\n",
    "    \":(\" : \"😒\",\n",
    "    \";-)\" : \"😜\"\n",
    "    }\n",
    "    words = message.split(' ')\n",
    "    output = ''\n",
    "    for item in words:\n",
    "        output += emojis.get(item, item) + ' '\n",
    "    \n",
    "    return output\n",
    "\n",
    "\n",
    "input_msg = input('> ')\n",
    "print(get_emojis(input_msg))\n",
    "    \n",
    "    "
   ]
  },
  {
   "cell_type": "code",
   "execution_count": 89,
   "id": "bd058b00",
   "metadata": {},
   "outputs": [
    {
     "name": "stdout",
     "output_type": "stream",
     "text": [
      "C:\\Users\\Ridaan\n"
     ]
    }
   ],
   "source": [
    "import os\n",
    "print(os.getcwd())"
   ]
  },
  {
   "cell_type": "code",
   "execution_count": 11,
   "id": "4c96a6f6",
   "metadata": {},
   "outputs": [
    {
     "data": {
      "text/plain": [
       "1     1.0\n",
       "2     3.0\n",
       "4     5.0\n",
       "3    10.0\n",
       "0     NaN\n",
       "dtype: float64"
      ]
     },
     "execution_count": 11,
     "metadata": {},
     "output_type": "execute_result"
    }
   ],
   "source": [
    "import numpy as np\n",
    "s = pd.Series([np.nan, 1, 3, 10, 5])\n",
    "s.index.array\n",
    "s.sort_values()"
   ]
  }
 ],
 "metadata": {
  "kernelspec": {
   "display_name": "Python 3 (ipykernel)",
   "language": "python",
   "name": "python3"
  },
  "language_info": {
   "codemirror_mode": {
    "name": "ipython",
    "version": 3
   },
   "file_extension": ".py",
   "mimetype": "text/x-python",
   "name": "python",
   "nbconvert_exporter": "python",
   "pygments_lexer": "ipython3",
   "version": "3.9.12"
  }
 },
 "nbformat": 4,
 "nbformat_minor": 5
}
