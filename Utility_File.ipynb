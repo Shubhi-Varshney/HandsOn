{
 "cells": [
  {
   "cell_type": "code",
   "execution_count": 19,
   "id": "03a2533a",
   "metadata": {},
   "outputs": [
    {
     "name": "stdout",
     "output_type": "stream",
     "text": [
      "0   2000-01-12\n",
      "1   2015-01-23\n",
      "2          NaT\n",
      "3          NaT\n",
      "Name: date, dtype: datetime64[ns]\n",
      "0          NaT\n",
      "1          NaT\n",
      "2   2015-12-20\n",
      "3   2009-12-31\n",
      "Name: date, dtype: datetime64[ns]\n",
      "        date\n",
      "0 2000-01-12\n",
      "1 2015-01-23\n",
      "2 2015-12-20\n",
      "3 2009-12-31\n"
     ]
    }
   ],
   "source": [
    "import pandas as pd\n",
    "dfDates = pd.DataFrame({'date': ['2000-01-12', '2015-01-23', '20.12.2015', '31.12.2009']}) \n",
    "#print (dfDates)\n",
    "date1 = pd.to_datetime(dfDates['date'], errors='coerce', format='%Y-%m-%d')\n",
    "print(date1)\n",
    "date2 = pd.to_datetime(dfDates['date'], errors='coerce', format='%d.%m.%Y')\n",
    "print(date2)\n",
    "dfDates['date'] = date1.fillna(date2)\n",
    "print (dfDates)"
   ]
  },
  {
   "cell_type": "code",
   "execution_count": 6,
   "id": "3c786aec",
   "metadata": {},
   "outputs": [
    {
     "name": "stdout",
     "output_type": "stream",
     "text": [
      "0   2000-01-12\n",
      "1   2015-01-23\n",
      "2   2015-12-20\n",
      "3   2009-12-31\n",
      "Name: date, dtype: datetime64[ns]\n",
      "<pandas.core.indexes.accessors.DatetimeProperties object at 0x000002BD2268FF40>\n",
      "0    2000\n",
      "1    2015\n",
      "2    2015\n",
      "3    2009\n",
      "Name: date, dtype: int64\n"
     ]
    }
   ],
   "source": [
    "from datetime import date\n",
    "dt = date.today()\n",
    "dt.year\n",
    "\n",
    "dfDates = pd.DataFrame({'date': ['2000-01-12', '2015-01-23', '20.12.2015', '31.12.2009']}) \n",
    "date1 = pd.to_datetime(dfDates['date'], errors='coerce', format='%Y-%m-%d')\n",
    "#print(date1)\n",
    "date2 = pd.to_datetime(dfDates['date'], errors='coerce', format='%d.%m.%Y')\n",
    "#print(date2)\n",
    "dfDates['date'] = date1.fillna(date2)\n",
    "print(dfDates['date'])\n",
    "print(dfDates['date'].dt)\n",
    "print(dfDates['date'].dt.year)"
   ]
  },
  {
   "cell_type": "code",
   "execution_count": null,
   "id": "286d9a72",
   "metadata": {},
   "outputs": [],
   "source": [
    "# To understand what lamda function is doing in 'Simple Recommendor'\n",
    "df1 =[ {\"id\": 10751, \"name\": \"Family\"}, \n",
    "       {\"id\": 10752, \"name\": \"Horror\"}       \n",
    "     ]\n",
    "df2 = []\n",
    "\n",
    "def fun(x):\n",
    "    z=[]\n",
    "    for i in x:\n",
    "        z.append(i['name'])\n",
    "    \n",
    "    \n",
    "    if isinstance(z,list):\n",
    "        return z\n",
    "    else:\n",
    "        return []\n",
    "\n",
    "print(fun(df1))\n",
    "print(fun(df2))"
   ]
  },
  {
   "cell_type": "code",
   "execution_count": 1,
   "id": "f216ead3",
   "metadata": {},
   "outputs": [
    {
     "name": "stdout",
     "output_type": "stream",
     "text": [
      "0    [Family, Horror]\n",
      "1                  []\n",
      "Name: genres, dtype: object\n",
      "0    5415.0\n",
      "1       NaN\n",
      "Name: vote_count, dtype: float64\n",
      "0     True\n",
      "1    False\n",
      "Name: vote_count, dtype: bool\n"
     ]
    },
    {
     "data": {
      "text/plain": [
       "0    5415\n",
       "Name: vote_count, dtype: int32"
      ]
     },
     "execution_count": 1,
     "metadata": {},
     "output_type": "execute_result"
    }
   ],
   "source": [
    "import pandas as pd\n",
    "\n",
    "# Getting only genres names from genres column\n",
    "from ast import literal_eval\n",
    "movies = pd.read_csv('D:\\\\Shubhi\\\\DataScience\\\\MoviesRecommendation\\\\MovieLens_Dataset\\\\movies_metadata_1.csv')\n",
    "df = pd.DataFrame(movies)\n",
    "df['genres'] = df['genres'].fillna('[]').apply(literal_eval).apply(lambda x: [i['name'] for i in x] if isinstance(x, list) else [])\n",
    "print(df['genres'])\n",
    "\n",
    "#notnull() method returns true/false based on null values present in the dtaset or not\n",
    "print(df['vote_count'])\n",
    "print(df['vote_count'].notnull())\n",
    "df[df['vote_count'].notnull()]['vote_count'].astype('int')\n",
    "\n"
   ]
  },
  {
   "cell_type": "code",
   "execution_count": 28,
   "id": "274b115f",
   "metadata": {},
   "outputs": [
    {
     "name": "stdout",
     "output_type": "stream",
     "text": [
      "Index(['a', 'b', 'c', 'd'], dtype='object')\n",
      "D\n",
      "B\n",
      "C\n",
      "A\n",
      "COLUMNS: ATTRIBUTE\n",
      "['D', 'B', 'C', 'A']\n",
      "KEYS(): FUNCTION\n",
      "['D', 'B', 'C', 'A']\n",
      "COLUMNS.VALUES\n",
      "['D', 'B', 'C', 'A']\n",
      "SORTED\n",
      "['A', 'B', 'C', 'D']\n"
     ]
    },
    {
     "data": {
      "text/plain": [
       "['A', 'B', 'C', 'D']"
      ]
     },
     "execution_count": 28,
     "metadata": {},
     "output_type": "execute_result"
    }
   ],
   "source": [
    "# Ways to get the column names:\n",
    "\n",
    "data = {\n",
    "        \"D\": [\"A0\", \"A1\", \"A2\", \"A3\"],\n",
    "        \"B\": [\"B0\", \"B1\", \"B2\", \"B3\"],\n",
    "        \"C\": [\"C0\", \"C1\", \"C2\", \"C3\"],\n",
    "        \"A\": [\"D0\", \"D1\", \"D2\", \"D3\"],\n",
    "        }\n",
    "df = pd.DataFrame(data, index=['a','b','c','d'])\n",
    "print(df.index)\n",
    "\n",
    "# 1 iterating attribute df.columns\n",
    "for col in df.columns:\n",
    "       print(col)\n",
    "        \n",
    "#2 : columns ATTRIBUTE\n",
    "print('COLUMNS: ATTRIBUTE')\n",
    "print(list(df.columns))\n",
    "   \n",
    "#3 : keys() FUNCTION\n",
    "print('KEYS(): FUNCTION')\n",
    "print(list(df.keys()))\n",
    "\n",
    "#4 : columns.values\n",
    "print(\"COLUMNS.VALUES\")\n",
    "print(df.columns.values.tolist())\n",
    "\n",
    "#4 : sorted() method\n",
    "print(\"SORTED\")\n",
    "print(sorted(df))\n",
    "    \n",
    "df.head.transpose()"
   ]
  },
  {
   "cell_type": "code",
   "execution_count": 29,
   "id": "2e154d95",
   "metadata": {},
   "outputs": [
    {
     "name": "stdout",
     "output_type": "stream",
     "text": [
      "   col1  col2  col3\n",
      "0     1     3     5\n",
      "1     2     4     6\n",
      "(2, 3)\n"
     ]
    },
    {
     "data": {
      "text/html": [
       "<div>\n",
       "<style scoped>\n",
       "    .dataframe tbody tr th:only-of-type {\n",
       "        vertical-align: middle;\n",
       "    }\n",
       "\n",
       "    .dataframe tbody tr th {\n",
       "        vertical-align: top;\n",
       "    }\n",
       "\n",
       "    .dataframe thead th {\n",
       "        text-align: right;\n",
       "    }\n",
       "</style>\n",
       "<table border=\"1\" class=\"dataframe\">\n",
       "  <thead>\n",
       "    <tr style=\"text-align: right;\">\n",
       "      <th></th>\n",
       "      <th>0</th>\n",
       "      <th>1</th>\n",
       "    </tr>\n",
       "  </thead>\n",
       "  <tbody>\n",
       "    <tr>\n",
       "      <th>col1</th>\n",
       "      <td>1</td>\n",
       "      <td>2</td>\n",
       "    </tr>\n",
       "    <tr>\n",
       "      <th>col2</th>\n",
       "      <td>3</td>\n",
       "      <td>4</td>\n",
       "    </tr>\n",
       "    <tr>\n",
       "      <th>col3</th>\n",
       "      <td>5</td>\n",
       "      <td>6</td>\n",
       "    </tr>\n",
       "  </tbody>\n",
       "</table>\n",
       "</div>"
      ],
      "text/plain": [
       "      0  1\n",
       "col1  1  2\n",
       "col2  3  4\n",
       "col3  5  6"
      ]
     },
     "execution_count": 29,
     "metadata": {},
     "output_type": "execute_result"
    }
   ],
   "source": [
    "# shape method returns the tuple representing the dimensionality of the DataFrame.\n",
    "df = pd.DataFrame({'col1': [1, 2], 'col2': [3, 4],\n",
    "                   'col3': [5, 6]})\n",
    "\n",
    "print(df)\n",
    "print(df.shape)\n",
    "\n",
    "df.transpose()"
   ]
  },
  {
   "cell_type": "code",
   "execution_count": null,
   "id": "bd8022a6",
   "metadata": {},
   "outputs": [],
   "source": []
  }
 ],
 "metadata": {
  "kernelspec": {
   "display_name": "Python 3 (ipykernel)",
   "language": "python",
   "name": "python3"
  },
  "language_info": {
   "codemirror_mode": {
    "name": "ipython",
    "version": 3
   },
   "file_extension": ".py",
   "mimetype": "text/x-python",
   "name": "python",
   "nbconvert_exporter": "python",
   "pygments_lexer": "ipython3",
   "version": "3.9.12"
  }
 },
 "nbformat": 4,
 "nbformat_minor": 5
}
