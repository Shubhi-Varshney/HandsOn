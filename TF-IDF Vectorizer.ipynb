{
 "cells": [
  {
   "cell_type": "markdown",
   "id": "7ea059c9",
   "metadata": {},
   "source": [
    "## Count Vectorizer"
   ]
  },
  {
   "cell_type": "code",
   "execution_count": 8,
   "id": "9ff2ed8a",
   "metadata": {},
   "outputs": [
    {
     "name": "stdout",
     "output_type": "stream",
     "text": [
      "Term frequency built from train data: \n",
      "  (0, 2)\t1\n",
      "  (0, 0)\t1\n",
      "  (1, 3)\t1\n",
      "  (1, 1)\t1\n",
      "Vocaboluary created: \n",
      " {'sky': 2, 'blue': 0, 'sun': 3, 'bright': 1}\n",
      "Feature names: \n",
      " ['blue' 'bright' 'sky' 'sun']\n",
      "Coordinates which have non-zero entries in term frequency matrix: \n",
      "  (0, 1)\t1\n",
      "  (0, 2)\t1\n",
      "  (0, 3)\t1\n",
      "  (1, 1)\t1\n",
      "  (1, 3)\t2\n",
      "Sparse Matrix form of test data term frequency: \n",
      "\n",
      "[[0 1 1 1]\n",
      " [0 1 0 2]]\n"
     ]
    },
    {
     "data": {
      "text/html": [
       "<div>\n",
       "<style scoped>\n",
       "    .dataframe tbody tr th:only-of-type {\n",
       "        vertical-align: middle;\n",
       "    }\n",
       "\n",
       "    .dataframe tbody tr th {\n",
       "        vertical-align: top;\n",
       "    }\n",
       "\n",
       "    .dataframe thead th {\n",
       "        text-align: right;\n",
       "    }\n",
       "</style>\n",
       "<table border=\"1\" class=\"dataframe\">\n",
       "  <thead>\n",
       "    <tr style=\"text-align: right;\">\n",
       "      <th></th>\n",
       "      <th>blue</th>\n",
       "      <th>bright</th>\n",
       "      <th>sky</th>\n",
       "      <th>sun</th>\n",
       "    </tr>\n",
       "  </thead>\n",
       "  <tbody>\n",
       "    <tr>\n",
       "      <th>Doc2</th>\n",
       "      <td>0</td>\n",
       "      <td>1</td>\n",
       "      <td>1</td>\n",
       "      <td>1</td>\n",
       "    </tr>\n",
       "    <tr>\n",
       "      <th>Doc1</th>\n",
       "      <td>0</td>\n",
       "      <td>1</td>\n",
       "      <td>0</td>\n",
       "      <td>2</td>\n",
       "    </tr>\n",
       "  </tbody>\n",
       "</table>\n",
       "</div>"
      ],
      "text/plain": [
       "      blue  bright  sky  sun\n",
       "Doc2     0       1    1    1\n",
       "Doc1     0       1    0    2"
      ]
     },
     "execution_count": 8,
     "metadata": {},
     "output_type": "execute_result"
    }
   ],
   "source": [
    "#import count vectorizer and tfidf vectoriser\n",
    "from sklearn.feature_extraction.text import CountVectorizer, TfidfTransformer, TfidfVectorizer\n",
    "import pandas as pd\n",
    "train = ('The sky is blue.','The sun is bright.')\n",
    "test = ('The sun in the sky is bright', 'We can see the shining sun, the bright sun.')\n",
    "# instantiate the vectorizer object\n",
    "# use analyzer as word and stop_words is english which are responsible for remove stop words and create word vocabulary\n",
    "# fit_transform creates the vocabluary depending on the group of documents passed.\n",
    "countvectorizer = CountVectorizer(analyzer='word' , stop_words='english')\n",
    "\n",
    "terms = countvectorizer.fit_transform(train)\n",
    "term_vectors  = countvectorizer.transform(test)\n",
    "print(f\"Term frequency built from train data: \\n{terms}\")\n",
    "print(f\"Vocaboluary created: \\n {countvectorizer.vocabulary_}\")\n",
    "print(f\"Feature names: \\n {countvectorizer.get_feature_names_out()}\")\n",
    "# print(f\"Feature names: \\n {countvectorizer.get_feature_names()}\") // deprecated\n",
    "\n",
    "print(f\"Coordinates which have non-zero entries in term frequency matrix: \\n{term_vectors}\")\n",
    "print(\"Sparse Matrix form of test data term frequency: \\n\")\n",
    "print(term_vectors.todense())\n",
    "\n",
    "df = pd.DataFrame(term_vectors.toarray(), index = {'Doc1', 'Doc2'}, columns = countvectorizer.get_feature_names_out())\n",
    "df\n"
   ]
  },
  {
   "cell_type": "markdown",
   "id": "9d28fb36",
   "metadata": {},
   "source": [
    "## TfidfTransformer"
   ]
  },
  {
   "cell_type": "code",
   "execution_count": 2,
   "id": "984cae82",
   "metadata": {},
   "outputs": [
    {
     "name": "stdout",
     "output_type": "stream",
     "text": [
      "\n",
      "Vector of idf \n",
      "\n",
      "[2.09861229 1.         1.40546511 1.        ]\n",
      "\n",
      "Final tf-idf vectorizer matrix form :\n",
      "\n",
      "[[0.         0.50154891 0.70490949 0.50154891]\n",
      " [0.         0.4472136  0.         0.89442719]]\n"
     ]
    }
   ],
   "source": [
    "tfidf = TfidfTransformer(norm='l2')\n",
    "tfidf.fit(term_vectors)\n",
    "\n",
    "print(\"\\nVector of idf \\n\")\n",
    "print(tfidf.idf_)\n",
    "## idf is calculated by the formula = ln( D+1 /df + 1) + 1 | [ adding 1 in num/den/and after calculating natural log as well ]\n",
    "\n",
    "tf_idf_matrix = tfidf.transform(term_vectors)\n",
    "print(\"\\nFinal tf-idf vectorizer matrix form :\\n\")\n",
    "print(tf_idf_matrix.todense())\n",
    "## tfidf is calculated as multipication of tf and idf. And then normalizing it by dividing the square root of \n",
    "## sum of squares of tfidf(i,j) \n",
    "\n"
   ]
  },
  {
   "cell_type": "code",
   "execution_count": 3,
   "id": "38a6638d",
   "metadata": {},
   "outputs": [
    {
     "name": "stdout",
     "output_type": "stream",
     "text": [
      "\n",
      "Vector of idf \n",
      "\n",
      "[2.09861229 1.         1.40546511 1.        ]\n",
      "\n",
      "Final tf-idf vectorizer matrix form :\n",
      "\n",
      "[[0.         0.50154891 0.70490949 0.50154891]\n",
      " [0.         0.4472136  0.         0.89442719]]\n"
     ]
    }
   ],
   "source": [
    "# fit and transform can be done in one single step as well\n",
    "tfidf_1 = TfidfTransformer(norm='l2')\n",
    "tf_idf_matrix_1 = tfidf_1.fit_transform(term_vectors)\n",
    "\n",
    "print(\"\\nVector of idf \\n\")\n",
    "print(tfidf_1.idf_)\n",
    "print(\"\\nFinal tf-idf vectorizer matrix form :\\n\")\n",
    "print(tf_idf_matrix_1.todense())\n"
   ]
  },
  {
   "cell_type": "markdown",
   "id": "837de5c0",
   "metadata": {},
   "source": [
    "## TfidfVectorizer"
   ]
  },
  {
   "cell_type": "code",
   "execution_count": 4,
   "id": "08b7b0c4",
   "metadata": {},
   "outputs": [
    {
     "name": "stdout",
     "output_type": "stream",
     "text": [
      "[1.40546511 1.40546511 1.40546511 1.40546511]\n",
      "Sparse Matrix form of test data : \n",
      "\n"
     ]
    },
    {
     "data": {
      "text/plain": [
       "matrix([[0.        , 0.57735027, 0.57735027, 0.57735027],\n",
       "        [0.        , 0.4472136 , 0.        , 0.89442719]])"
      ]
     },
     "execution_count": 4,
     "metadata": {},
     "output_type": "execute_result"
    }
   ],
   "source": [
    "tfidfvectorizer = TfidfVectorizer(analyzer='word' , stop_words='english')\n",
    "tfidfvectorizer.fit(train)\n",
    "\n",
    "tfidf_term_vectors  = tfidfvectorizer.transform(test)\n",
    "\n",
    "print(tfidfvectorizer.idf_)\n",
    "\n",
    "print(\"Sparse Matrix form of test data : \\n\")\n",
    "tfidf_term_vectors.todense()"
   ]
  },
  {
   "cell_type": "code",
   "execution_count": 5,
   "id": "a6e0b82b",
   "metadata": {},
   "outputs": [
    {
     "data": {
      "text/plain": [
       "array([[1.        , 0.77459667],\n",
       "       [0.77459667, 1.        ]])"
      ]
     },
     "execution_count": 5,
     "metadata": {},
     "output_type": "execute_result"
    }
   ],
   "source": [
    "from sklearn.metrics.pairwise import cosine_similarity, linear_kernel\n",
    "\n",
    "cosine_similarity(tfidf_term_vectors, tfidf_term_vectors)\n",
    "\n"
   ]
  },
  {
   "cell_type": "code",
   "execution_count": 6,
   "id": "e339baeb",
   "metadata": {},
   "outputs": [
    {
     "data": {
      "text/plain": [
       "array([[1.        , 0.77459667],\n",
       "       [0.77459667, 1.        ]])"
      ]
     },
     "execution_count": 6,
     "metadata": {},
     "output_type": "execute_result"
    }
   ],
   "source": [
    "from sklearn.metrics.pairwise import linear_kernel\n",
    "linear_kernel(tfidf_term_vectors,tfidf_term_vectors)"
   ]
  },
  {
   "cell_type": "code",
   "execution_count": 7,
   "id": "d59a8867",
   "metadata": {},
   "outputs": [
    {
     "data": {
      "text/plain": [
       "array([[1.        , 0.77459667],\n",
       "       [0.77459667, 1.        ]])"
      ]
     },
     "execution_count": 7,
     "metadata": {},
     "output_type": "execute_result"
    }
   ],
   "source": [
    "cosine_similarity(term_vectors, term_vectors)"
   ]
  },
  {
   "cell_type": "code",
   "execution_count": null,
   "id": "f91441fc",
   "metadata": {},
   "outputs": [],
   "source": []
  }
 ],
 "metadata": {
  "kernelspec": {
   "display_name": "Python 3 (ipykernel)",
   "language": "python",
   "name": "python3"
  },
  "language_info": {
   "codemirror_mode": {
    "name": "ipython",
    "version": 3
   },
   "file_extension": ".py",
   "mimetype": "text/x-python",
   "name": "python",
   "nbconvert_exporter": "python",
   "pygments_lexer": "ipython3",
   "version": "3.9.12"
  }
 },
 "nbformat": 4,
 "nbformat_minor": 5
}
