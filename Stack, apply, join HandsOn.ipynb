{
 "cells": [
  {
   "cell_type": "markdown",
   "id": "c7c30118",
   "metadata": {},
   "source": [
    "## STACK()"
   ]
  },
  {
   "cell_type": "code",
   "execution_count": 1,
   "id": "7cde82c4",
   "metadata": {},
   "outputs": [
    {
     "data": {
      "text/html": [
       "<div>\n",
       "<style scoped>\n",
       "    .dataframe tbody tr th:only-of-type {\n",
       "        vertical-align: middle;\n",
       "    }\n",
       "\n",
       "    .dataframe tbody tr th {\n",
       "        vertical-align: top;\n",
       "    }\n",
       "\n",
       "    .dataframe thead th {\n",
       "        text-align: right;\n",
       "    }\n",
       "</style>\n",
       "<table border=\"1\" class=\"dataframe\">\n",
       "  <thead>\n",
       "    <tr style=\"text-align: right;\">\n",
       "      <th></th>\n",
       "      <th>weight</th>\n",
       "      <th>height</th>\n",
       "    </tr>\n",
       "  </thead>\n",
       "  <tbody>\n",
       "    <tr>\n",
       "      <th>deer</th>\n",
       "      <td>0</td>\n",
       "      <td>2</td>\n",
       "    </tr>\n",
       "    <tr>\n",
       "      <th>monkey</th>\n",
       "      <td>3</td>\n",
       "      <td>4</td>\n",
       "    </tr>\n",
       "  </tbody>\n",
       "</table>\n",
       "</div>"
      ],
      "text/plain": [
       "        weight  height\n",
       "deer         0       2\n",
       "monkey       3       4"
      ]
     },
     "execution_count": 1,
     "metadata": {},
     "output_type": "execute_result"
    }
   ],
   "source": [
    "# REf : https://www.w3resource.com/pandas/dataframe/dataframe-stack.php\n",
    "import numpy as np\n",
    "import pandas as pd\n",
    "df_single_level_cols = pd.DataFrame([[0, 2], [3, 4]],\n",
    "                                    index=['deer', 'monkey'],\n",
    "                                    columns=['weight', 'height'])\n",
    "df_single_level_cols\n"
   ]
  },
  {
   "cell_type": "code",
   "execution_count": 2,
   "id": "ad7804d8",
   "metadata": {},
   "outputs": [
    {
     "name": "stdout",
     "output_type": "stream",
     "text": [
      "<class 'pandas.core.series.Series'>\n",
      "deer    weight    0\n",
      "        height    2\n",
      "monkey  weight    3\n",
      "        height    4\n",
      "dtype: int64\n",
      "MultiIndex([(  'deer', 'weight'),\n",
      "            (  'deer', 'height'),\n",
      "            ('monkey', 'weight'),\n",
      "            ('monkey', 'height')],\n",
      "           )\n",
      "[0 2 3 4]\n"
     ]
    }
   ],
   "source": [
    "print(type(df_single_level_cols.stack()))\n",
    "print(df_single_level_cols.stack())\n",
    "print(df_single_level_cols.stack().index)\n",
    "print(df_single_level_cols.stack().values)\n"
   ]
  },
  {
   "cell_type": "code",
   "execution_count": null,
   "id": "647ecae4",
   "metadata": {},
   "outputs": [],
   "source": [
    "multicol1 = pd.MultiIndex.from_tuples([('weight','kg'),('weight','pounds')])\n",
    "df_multi_level_cols1 = pd.DataFrame([[3, 4], [4, 5]],\n",
    "                                    index=['deer', 'monkey'],\n",
    "                                    columns=multicol1)\n",
    "print(df_multi_level_cols1)\n",
    "df_multi_level_cols2 = pd.DataFrame([[13, 14], [14, 15]],\n",
    "                                    index=multicol1,\n",
    "                                    columns=['deer','monkey'])\n",
    "print(df_multi_level_cols2)"
   ]
  },
  {
   "cell_type": "code",
   "execution_count": null,
   "id": "32b28002",
   "metadata": {},
   "outputs": [],
   "source": [
    "df_multi_level_cols1.stack()"
   ]
  },
  {
   "cell_type": "code",
   "execution_count": null,
   "id": "3d73b642",
   "metadata": {},
   "outputs": [],
   "source": [
    "df_multi_level_cols1.stack([0,1])"
   ]
  },
  {
   "cell_type": "code",
   "execution_count": null,
   "id": "46a0e201",
   "metadata": {},
   "outputs": [],
   "source": [
    "df_m = pd.DataFrame([['Titanic',['animation','comedy','drama']],['K3G',['drama', 'comedy','thriller']]],columns=['title','genres'])\n",
    "df_m"
   ]
  },
  {
   "cell_type": "code",
   "execution_count": null,
   "id": "0bb05f34",
   "metadata": {},
   "outputs": [],
   "source": [
    "s = df_m.apply(lambda x: pd.Series(x['genres']), axis=1)\n",
    "s"
   ]
  },
  {
   "cell_type": "code",
   "execution_count": null,
   "id": "215c3cbe",
   "metadata": {},
   "outputs": [],
   "source": [
    "s.stack()"
   ]
  },
  {
   "cell_type": "code",
   "execution_count": null,
   "id": "834d0983",
   "metadata": {},
   "outputs": [],
   "source": [
    "s.stack().reset_index(level=1, drop=True)"
   ]
  },
  {
   "cell_type": "code",
   "execution_count": 3,
   "id": "89ce6a20",
   "metadata": {},
   "outputs": [
    {
     "name": "stdout",
     "output_type": "stream",
     "text": [
      "     title             genres\n",
      "0  titanic   [action, comedy]\n",
      "1     K3G1  [drama, thriller]\n",
      "2      KFG          [A, B, C]\n"
     ]
    },
    {
     "data": {
      "text/plain": [
       "pandas.core.series.Series"
      ]
     },
     "execution_count": 3,
     "metadata": {},
     "output_type": "execute_result"
    }
   ],
   "source": [
    "df1 = pd.DataFrame({'title':['titanic','K3G1','KFG'], 'genres':[['action','comedy'],['drama','thriller'],['A','B','C']]})\n",
    "print(df1)\n",
    "\n",
    "pd.Series(df1['genres'])"
   ]
  },
  {
   "cell_type": "code",
   "execution_count": 6,
   "id": "45632938",
   "metadata": {},
   "outputs": [
    {
     "data": {
      "text/html": [
       "<div>\n",
       "<style scoped>\n",
       "    .dataframe tbody tr th:only-of-type {\n",
       "        vertical-align: middle;\n",
       "    }\n",
       "\n",
       "    .dataframe tbody tr th {\n",
       "        vertical-align: top;\n",
       "    }\n",
       "\n",
       "    .dataframe thead th {\n",
       "        text-align: right;\n",
       "    }\n",
       "</style>\n",
       "<table border=\"1\" class=\"dataframe\">\n",
       "  <thead>\n",
       "    <tr style=\"text-align: right;\">\n",
       "      <th></th>\n",
       "      <th>0</th>\n",
       "      <th>1</th>\n",
       "      <th>2</th>\n",
       "    </tr>\n",
       "  </thead>\n",
       "  <tbody>\n",
       "    <tr>\n",
       "      <th>0</th>\n",
       "      <td>action</td>\n",
       "      <td>comedy</td>\n",
       "      <td>NaN</td>\n",
       "    </tr>\n",
       "    <tr>\n",
       "      <th>1</th>\n",
       "      <td>drama</td>\n",
       "      <td>thriller</td>\n",
       "      <td>NaN</td>\n",
       "    </tr>\n",
       "    <tr>\n",
       "      <th>2</th>\n",
       "      <td>A</td>\n",
       "      <td>B</td>\n",
       "      <td>C</td>\n",
       "    </tr>\n",
       "  </tbody>\n",
       "</table>\n",
       "</div>"
      ],
      "text/plain": [
       "        0         1    2\n",
       "0  action    comedy  NaN\n",
       "1   drama  thriller  NaN\n",
       "2       A         B    C"
      ]
     },
     "execution_count": 6,
     "metadata": {},
     "output_type": "execute_result"
    }
   ],
   "source": [
    "p = df1.apply(lambda x: pd.Series(x['genres']), axis=1)\n",
    "p"
   ]
  },
  {
   "cell_type": "code",
   "execution_count": 7,
   "id": "a2d98d69",
   "metadata": {},
   "outputs": [
    {
     "data": {
      "text/plain": [
       "0  0      action\n",
       "   1      comedy\n",
       "   2         NaN\n",
       "1  0       drama\n",
       "   1    thriller\n",
       "   2         NaN\n",
       "2  0           A\n",
       "   1           B\n",
       "   2           C\n",
       "dtype: object"
      ]
     },
     "execution_count": 7,
     "metadata": {},
     "output_type": "execute_result"
    }
   ],
   "source": [
    "p.stack(dropna=False)"
   ]
  },
  {
   "cell_type": "code",
   "execution_count": 8,
   "id": "283aee64",
   "metadata": {},
   "outputs": [
    {
     "data": {
      "text/plain": [
       "0  0      action\n",
       "   1      comedy\n",
       "1  0       drama\n",
       "   1    thriller\n",
       "2  0           A\n",
       "   1           B\n",
       "   2           C\n",
       "dtype: object"
      ]
     },
     "execution_count": 8,
     "metadata": {},
     "output_type": "execute_result"
    }
   ],
   "source": [
    "p.stack(dropna=True)"
   ]
  },
  {
   "cell_type": "code",
   "execution_count": 9,
   "id": "2375497c",
   "metadata": {},
   "outputs": [
    {
     "data": {
      "text/plain": [
       "0      action\n",
       "0      comedy\n",
       "1       drama\n",
       "1    thriller\n",
       "2           A\n",
       "2           B\n",
       "2           C\n",
       "dtype: object"
      ]
     },
     "execution_count": 9,
     "metadata": {},
     "output_type": "execute_result"
    }
   ],
   "source": [
    "p.stack().reset_index(level=1, drop=True)"
   ]
  },
  {
   "cell_type": "markdown",
   "id": "f7862270",
   "metadata": {},
   "source": [
    "## apply()"
   ]
  },
  {
   "cell_type": "code",
   "execution_count": null,
   "id": "1061724c",
   "metadata": {},
   "outputs": [],
   "source": [
    "# Ref: pandas docs\n",
    "# https://pandas.pydata.org/docs/reference/api/pandas.DataFrame.apply.html?highlight=apply#pandas.DataFrame.apply\n",
    "df = pd.DataFrame([[4, 9]] * 3, columns=['A', 'B'])\n",
    "df"
   ]
  },
  {
   "cell_type": "code",
   "execution_count": null,
   "id": "178fb682",
   "metadata": {},
   "outputs": [],
   "source": [
    "# apply function rowwise.. In each row iteration, do the sum of values(apply function) in every column(along axis=1(means columns))\n",
    "df.apply(np.sum, axis=1)"
   ]
  },
  {
   "cell_type": "code",
   "execution_count": null,
   "id": "00cbe012",
   "metadata": {},
   "outputs": [],
   "source": [
    "# apply function columnswise.. In each columns iteration, do the sum of values(apply function) in every row(along axis=0(means rows))\n",
    "df.apply(np.sum, axis=0)"
   ]
  },
  {
   "cell_type": "code",
   "execution_count": null,
   "id": "99563034",
   "metadata": {},
   "outputs": [],
   "source": [
    "# Expand will convert list-like into columns\n",
    "df.apply(lambda x: [1,2,3], axis=1, result_type='expand')"
   ]
  },
  {
   "cell_type": "code",
   "execution_count": null,
   "id": "8b9c7702",
   "metadata": {},
   "outputs": [],
   "source": [
    "# Returning a Series inside a function is similar to expand, which results on columns of resulting dataframe\n",
    "s = df.apply(lambda x: pd.Series([1,2,3,4], index=['A','B','C','D']))\n",
    "s"
   ]
  },
  {
   "cell_type": "code",
   "execution_count": null,
   "id": "8789ef27",
   "metadata": {},
   "outputs": [],
   "source": [
    "#Passing result_type='broadcast' will ensure the same shape result,\n",
    "#whether list-like or scalar is returned by the function, and broadcast it along the axis.\n",
    "\n",
    "s.apply(lambda x: [9,8,7,6], axis = 1, result_type = 'broadcast')"
   ]
  },
  {
   "cell_type": "code",
   "execution_count": null,
   "id": "be9079db",
   "metadata": {},
   "outputs": [],
   "source": [
    "# broadcasting scalar value\n",
    "s.apply(lambda x: 3, axis =1, result_type = 'broadcast')"
   ]
  },
  {
   "cell_type": "markdown",
   "id": "8a8e1cf7",
   "metadata": {},
   "source": [
    "## Join()"
   ]
  },
  {
   "cell_type": "code",
   "execution_count": null,
   "id": "30fdba99",
   "metadata": {},
   "outputs": [],
   "source": [
    "# Ref: pandas official docs\n",
    "# https://pandas.pydata.org/docs/reference/api/pandas.DataFrame.join.html?highlight=join#pandas.DataFrame.join\n",
    "df_j = pd.DataFrame({'key': ['K0', 'K1', 'K2', 'K3', 'K4', 'K5'],\n",
    "                   'A': ['A0', 'A1', 'A2', 'A3', 'A4', 'A5']})\n",
    "df_j"
   ]
  },
  {
   "cell_type": "code",
   "execution_count": null,
   "id": "155c5231",
   "metadata": {},
   "outputs": [],
   "source": [
    "other = pd.DataFrame({'key': ['K0', 'K1', 'K2'],\n",
    "                      'B': ['B0', 'B1', 'B2']})\n",
    "other"
   ]
  },
  {
   "cell_type": "code",
   "execution_count": null,
   "id": "cdcb3e65",
   "metadata": {},
   "outputs": [],
   "source": [
    "# Join DataFrames using their indexes.\n",
    "# default how='left'\n",
    "df_j.join(other, lsuffix='_caller', rsuffix='_other')"
   ]
  },
  {
   "cell_type": "code",
   "execution_count": null,
   "id": "bbcf13f8",
   "metadata": {},
   "outputs": [],
   "source": [
    "df_j.join(other, how='right', lsuffix='_caller', rsuffix='_other')"
   ]
  },
  {
   "cell_type": "code",
   "execution_count": null,
   "id": "a915e194",
   "metadata": {},
   "outputs": [],
   "source": [
    "other.join(df_j, lsuffix='_caller', rsuffix='_dfj')"
   ]
  },
  {
   "cell_type": "code",
   "execution_count": null,
   "id": "e37d2c74",
   "metadata": {},
   "outputs": [],
   "source": [
    "df_j.set_index('key').join(other.set_index('key'))"
   ]
  },
  {
   "cell_type": "code",
   "execution_count": null,
   "id": "966cbbea",
   "metadata": {},
   "outputs": [],
   "source": [
    "df_j = pd.DataFrame({'key': ['K0', 'K1', 'K1', 'K3', 'K0', 'K1'],\n",
    "                   'A': ['A0', 'A1', 'A2', 'A3', 'A4', 'A5']})\n",
    "df_j"
   ]
  },
  {
   "cell_type": "code",
   "execution_count": null,
   "id": "7cebd32b",
   "metadata": {},
   "outputs": [],
   "source": [
    "df_j.join(other.set_index('key'), on='key')"
   ]
  },
  {
   "cell_type": "code",
   "execution_count": null,
   "id": "966a3c58",
   "metadata": {},
   "outputs": [],
   "source": [
    "# Ref: https://www.skytowner.com/explore/splitting_dictionary_into_separate_columns_in_pandas_dataframe\n",
    "df = pd.DataFrame({\"A\":[{\"a\":3, \"d\":8},{\"b\":4,\"c\":5}], \"B\":[6,7]})\n",
    "df"
   ]
  },
  {
   "cell_type": "code",
   "execution_count": null,
   "id": "b929faed",
   "metadata": {},
   "outputs": [],
   "source": [
    "type(df['A'])\n",
    "#df['A'].apply(pd.Series, axis=1)\n",
    "df['A'].apply(pd.Series)"
   ]
  },
  {
   "cell_type": "code",
   "execution_count": null,
   "id": "7a58e3cb",
   "metadata": {},
   "outputs": [],
   "source": [
    "df = pd.concat([df, df['A'].apply(pd.Series)], axis=1)\n",
    "df"
   ]
  },
  {
   "cell_type": "code",
   "execution_count": null,
   "id": "3e0dc964",
   "metadata": {},
   "outputs": [],
   "source": [
    "df.drop('A', axis=1, inplace=True)"
   ]
  },
  {
   "cell_type": "code",
   "execution_count": null,
   "id": "de7d54cb",
   "metadata": {},
   "outputs": [],
   "source": [
    "df.sort_index(axis=1)"
   ]
  },
  {
   "cell_type": "code",
   "execution_count": null,
   "id": "1d84234a",
   "metadata": {},
   "outputs": [],
   "source": [
    "df = pd.DataFrame({\"A\":[{\"a\":3, \"d\":8},5], \"B\":[7,{\"b\":4, \"c\": 6}]})\n",
    "df"
   ]
  },
  {
   "cell_type": "code",
   "execution_count": null,
   "id": "d2632826",
   "metadata": {},
   "outputs": [],
   "source": [
    "A = df['A'].apply(pd.Series)\n",
    "B = df['B'].apply(pd.Series)"
   ]
  },
  {
   "cell_type": "code",
   "execution_count": null,
   "id": "c3532641",
   "metadata": {},
   "outputs": [],
   "source": [
    "pd.concat([A, B], axis=1)"
   ]
  },
  {
   "cell_type": "markdown",
   "id": "198536dc",
   "metadata": {},
   "source": [
    "## literal_eval"
   ]
  },
  {
   "cell_type": "code",
   "execution_count": 180,
   "id": "3ebfba1f",
   "metadata": {},
   "outputs": [
    {
     "name": "stdout",
     "output_type": "stream",
     "text": [
      "<class 'list'>\n",
      "<class 'dict'>\n"
     ]
    }
   ],
   "source": [
    "df_le = pd.DataFrame({\"title\": [\"titanic\", \"K3G\"], \"genres\":[[{'id': 16, 'name': 'Animation'},{'id': 20, 'name': 'Adventure'}],\n",
    "                                                             {'id': 10749, 'name': 'Romance'}\n",
    "                                                            ]\n",
    "                     })\n",
    "\n",
    "df_le\n",
    "#df_le['genres'].apply(literal_eval) # this is creating error as genres elements are not strings, rather they are a List or Dict\n",
    "print(type(df_le[\"genres\"][0]))\n",
    "print(type(df_le[\"genres\"][1]))\n"
   ]
  },
  {
   "cell_type": "code",
   "execution_count": 179,
   "id": "2a9d1fa8",
   "metadata": {},
   "outputs": [
    {
     "name": "stdout",
     "output_type": "stream",
     "text": [
      "<class 'str'>\n"
     ]
    },
    {
     "data": {
      "text/plain": [
       "list"
      ]
     },
     "execution_count": 179,
     "metadata": {},
     "output_type": "execute_result"
    }
   ],
   "source": [
    "from ast import literal_eval \n",
    "\n",
    "a = \"[{'id': 16, 'name': 'Animation'},{'id': 20, 'name': 'Adventure'},{'id': 10749, 'name': 'Romance'} ]\"\n",
    "print(type(a))\n",
    "type(literal_eval(a))"
   ]
  },
  {
   "cell_type": "code",
   "execution_count": 182,
   "id": "10d8fbbf",
   "metadata": {},
   "outputs": [
    {
     "data": {
      "text/html": [
       "<div>\n",
       "<style scoped>\n",
       "    .dataframe tbody tr th:only-of-type {\n",
       "        vertical-align: middle;\n",
       "    }\n",
       "\n",
       "    .dataframe tbody tr th {\n",
       "        vertical-align: top;\n",
       "    }\n",
       "\n",
       "    .dataframe thead th {\n",
       "        text-align: right;\n",
       "    }\n",
       "</style>\n",
       "<table border=\"1\" class=\"dataframe\">\n",
       "  <thead>\n",
       "    <tr style=\"text-align: right;\">\n",
       "      <th></th>\n",
       "      <th>adult</th>\n",
       "      <th>belongs_to_collection</th>\n",
       "      <th>budget</th>\n",
       "      <th>genres</th>\n",
       "      <th>homepage</th>\n",
       "      <th>id</th>\n",
       "      <th>imdb_id</th>\n",
       "      <th>original_language</th>\n",
       "      <th>original_title</th>\n",
       "      <th>overview</th>\n",
       "      <th>...</th>\n",
       "      <th>release_date</th>\n",
       "      <th>revenue</th>\n",
       "      <th>runtime</th>\n",
       "      <th>spoken_languages</th>\n",
       "      <th>status</th>\n",
       "      <th>tagline</th>\n",
       "      <th>title</th>\n",
       "      <th>video</th>\n",
       "      <th>vote_average</th>\n",
       "      <th>vote_count</th>\n",
       "    </tr>\n",
       "  </thead>\n",
       "  <tbody>\n",
       "    <tr>\n",
       "      <th>0</th>\n",
       "      <td>False</td>\n",
       "      <td>{\"id\": 10194, \"name\": \"Toy Story Collection\", ...</td>\n",
       "      <td>30000000</td>\n",
       "      <td>[{\"id\": 16, \"name\": \"Animation\"}, {\"id\": 35, \"...</td>\n",
       "      <td>http://toystory.disney.com/toy-story</td>\n",
       "      <td>862</td>\n",
       "      <td>tt0114709</td>\n",
       "      <td>en</td>\n",
       "      <td>Toy Story</td>\n",
       "      <td>Led by Woody, Andy\"s toys live happily in his ...</td>\n",
       "      <td>...</td>\n",
       "      <td>30-10-1995</td>\n",
       "      <td>373554033</td>\n",
       "      <td>81</td>\n",
       "      <td>[{\"iso_639_1\": \"en\", \"name\": \"English\"}]</td>\n",
       "      <td>Released</td>\n",
       "      <td>NaN</td>\n",
       "      <td>Toy Story</td>\n",
       "      <td>False</td>\n",
       "      <td>7.7</td>\n",
       "      <td>5415</td>\n",
       "    </tr>\n",
       "    <tr>\n",
       "      <th>1</th>\n",
       "      <td>False</td>\n",
       "      <td>NaN</td>\n",
       "      <td>65000000</td>\n",
       "      <td>[{\"id\": 12, \"name\": \"Adventure\"}, {\"id\": 14, \"...</td>\n",
       "      <td>NaN</td>\n",
       "      <td>8844</td>\n",
       "      <td>tt0113497</td>\n",
       "      <td>en</td>\n",
       "      <td>Jumanji</td>\n",
       "      <td>When siblings Judy and Peter discover an encha...</td>\n",
       "      <td>...</td>\n",
       "      <td>15-12-1995</td>\n",
       "      <td>262797249</td>\n",
       "      <td>104</td>\n",
       "      <td>[{\"iso_639_1\": \"en\", \"name\": \"English\"}, {\"iso...</td>\n",
       "      <td>Cancelled</td>\n",
       "      <td>Roll the dice and unleash the excitement!</td>\n",
       "      <td>Jumanji</td>\n",
       "      <td>False</td>\n",
       "      <td>6.9</td>\n",
       "      <td>2413</td>\n",
       "    </tr>\n",
       "    <tr>\n",
       "      <th>2</th>\n",
       "      <td>False</td>\n",
       "      <td>{\"id\": 119050, \"name\": \"Grumpy Old Men Collect...</td>\n",
       "      <td>0</td>\n",
       "      <td>{\"id\": 10749, \"name\": \"Romance\"}</td>\n",
       "      <td>NaN</td>\n",
       "      <td>15602</td>\n",
       "      <td>tt0113228</td>\n",
       "      <td>en</td>\n",
       "      <td>Grumpier Old Men</td>\n",
       "      <td>A family wedding reignites the ancient feud be...</td>\n",
       "      <td>...</td>\n",
       "      <td>22-12-1995</td>\n",
       "      <td>0</td>\n",
       "      <td>101</td>\n",
       "      <td>[{\"iso_639_1\": \"en\", \"name\": \"English\"}]</td>\n",
       "      <td>Released</td>\n",
       "      <td>Still Yelling. Still Fighting. Still Ready for...</td>\n",
       "      <td>Grumpier Old Men</td>\n",
       "      <td>False</td>\n",
       "      <td>6.5</td>\n",
       "      <td>92</td>\n",
       "    </tr>\n",
       "    <tr>\n",
       "      <th>3</th>\n",
       "      <td>False</td>\n",
       "      <td>NaN</td>\n",
       "      <td>16000000</td>\n",
       "      <td>[{\"id\": 35, \"name\": \"Comedy\"}, {\"id\": 18, \"nam...</td>\n",
       "      <td>NaN</td>\n",
       "      <td>31357</td>\n",
       "      <td>tt0114885</td>\n",
       "      <td>en</td>\n",
       "      <td>Waiting to Exhale</td>\n",
       "      <td>Cheated on, mistreated and stepped on, the wom...</td>\n",
       "      <td>...</td>\n",
       "      <td>22-12-1995</td>\n",
       "      <td>81452156</td>\n",
       "      <td>127</td>\n",
       "      <td>[{\"iso_639_1\": \"en\", \"name\": \"English\"}]</td>\n",
       "      <td>Postponed</td>\n",
       "      <td>Friends are the people who let you be yourself...</td>\n",
       "      <td>Waiting to Exhale</td>\n",
       "      <td>False</td>\n",
       "      <td>6.1</td>\n",
       "      <td>34</td>\n",
       "    </tr>\n",
       "    <tr>\n",
       "      <th>4</th>\n",
       "      <td>False</td>\n",
       "      <td>{\"id\": 96871, \"name\": \"Father of the Bride Col...</td>\n",
       "      <td>0</td>\n",
       "      <td>[{\"id\": 35, \"name\": \"Comedy\"}]</td>\n",
       "      <td>NaN</td>\n",
       "      <td>11862</td>\n",
       "      <td>tt0113041</td>\n",
       "      <td>en</td>\n",
       "      <td>Father of the Bride Part II</td>\n",
       "      <td>Just when George Banks has recovered from his ...</td>\n",
       "      <td>...</td>\n",
       "      <td>10-02-1995</td>\n",
       "      <td>76578911</td>\n",
       "      <td>106</td>\n",
       "      <td>[{\"iso_639_1\": \"en\", \"name\": \"English\"}]</td>\n",
       "      <td>Released</td>\n",
       "      <td>Just When His World Is Back To Normal... He\"s ...</td>\n",
       "      <td>Father of the Bride Part II</td>\n",
       "      <td>False</td>\n",
       "      <td>5.7</td>\n",
       "      <td>173</td>\n",
       "    </tr>\n",
       "  </tbody>\n",
       "</table>\n",
       "<p>5 rows × 24 columns</p>\n",
       "</div>"
      ],
      "text/plain": [
       "   adult                              belongs_to_collection    budget  \\\n",
       "0  False  {\"id\": 10194, \"name\": \"Toy Story Collection\", ...  30000000   \n",
       "1  False                                                NaN  65000000   \n",
       "2  False  {\"id\": 119050, \"name\": \"Grumpy Old Men Collect...         0   \n",
       "3  False                                                NaN  16000000   \n",
       "4  False  {\"id\": 96871, \"name\": \"Father of the Bride Col...         0   \n",
       "\n",
       "                                              genres  \\\n",
       "0  [{\"id\": 16, \"name\": \"Animation\"}, {\"id\": 35, \"...   \n",
       "1  [{\"id\": 12, \"name\": \"Adventure\"}, {\"id\": 14, \"...   \n",
       "2                   {\"id\": 10749, \"name\": \"Romance\"}   \n",
       "3  [{\"id\": 35, \"name\": \"Comedy\"}, {\"id\": 18, \"nam...   \n",
       "4                     [{\"id\": 35, \"name\": \"Comedy\"}]   \n",
       "\n",
       "                               homepage     id    imdb_id original_language  \\\n",
       "0  http://toystory.disney.com/toy-story    862  tt0114709                en   \n",
       "1                                   NaN   8844  tt0113497                en   \n",
       "2                                   NaN  15602  tt0113228                en   \n",
       "3                                   NaN  31357  tt0114885                en   \n",
       "4                                   NaN  11862  tt0113041                en   \n",
       "\n",
       "                original_title  \\\n",
       "0                    Toy Story   \n",
       "1                      Jumanji   \n",
       "2             Grumpier Old Men   \n",
       "3            Waiting to Exhale   \n",
       "4  Father of the Bride Part II   \n",
       "\n",
       "                                            overview  ...  release_date  \\\n",
       "0  Led by Woody, Andy\"s toys live happily in his ...  ...    30-10-1995   \n",
       "1  When siblings Judy and Peter discover an encha...  ...    15-12-1995   \n",
       "2  A family wedding reignites the ancient feud be...  ...    22-12-1995   \n",
       "3  Cheated on, mistreated and stepped on, the wom...  ...    22-12-1995   \n",
       "4  Just when George Banks has recovered from his ...  ...    10-02-1995   \n",
       "\n",
       "     revenue runtime                                   spoken_languages  \\\n",
       "0  373554033      81           [{\"iso_639_1\": \"en\", \"name\": \"English\"}]   \n",
       "1  262797249     104  [{\"iso_639_1\": \"en\", \"name\": \"English\"}, {\"iso...   \n",
       "2          0     101           [{\"iso_639_1\": \"en\", \"name\": \"English\"}]   \n",
       "3   81452156     127           [{\"iso_639_1\": \"en\", \"name\": \"English\"}]   \n",
       "4   76578911     106           [{\"iso_639_1\": \"en\", \"name\": \"English\"}]   \n",
       "\n",
       "      status                                            tagline  \\\n",
       "0   Released                                                NaN   \n",
       "1  Cancelled          Roll the dice and unleash the excitement!   \n",
       "2   Released  Still Yelling. Still Fighting. Still Ready for...   \n",
       "3  Postponed  Friends are the people who let you be yourself...   \n",
       "4   Released  Just When His World Is Back To Normal... He\"s ...   \n",
       "\n",
       "                         title  video vote_average vote_count  \n",
       "0                    Toy Story  False          7.7       5415  \n",
       "1                      Jumanji  False          6.9       2413  \n",
       "2             Grumpier Old Men  False          6.5         92  \n",
       "3            Waiting to Exhale  False          6.1         34  \n",
       "4  Father of the Bride Part II  False          5.7        173  \n",
       "\n",
       "[5 rows x 24 columns]"
      ]
     },
     "execution_count": 182,
     "metadata": {},
     "output_type": "execute_result"
    }
   ],
   "source": [
    "movies = pd.read_csv('D:\\\\Shubhi\\\\DataScience\\\\MoviesRecommendation\\\\MovieLens_Dataset\\\\movies_metadata_1.csv')\n",
    "moviesDF = pd.DataFrame(movies)\n",
    "moviesDF.head()"
   ]
  },
  {
   "cell_type": "code",
   "execution_count": 184,
   "id": "7949000a",
   "metadata": {},
   "outputs": [
    {
     "name": "stdout",
     "output_type": "stream",
     "text": [
      "<class 'str'>\n",
      "<class 'dict'>\n",
      "<class 'list'>\n"
     ]
    }
   ],
   "source": [
    "print(type(moviesDF['genres'][0]))\n",
    "print(type(moviesDF['genres'].apply(literal_eval)[2]))\n",
    "print(type(moviesDF['genres'].apply(literal_eval)[1]))\n",
    "\n",
    "#type(moviesDF['genres'].apply(literal_eval)[0])"
   ]
  },
  {
   "cell_type": "code",
   "execution_count": 199,
   "id": "aab93c4f",
   "metadata": {},
   "outputs": [
    {
     "name": "stdout",
     "output_type": "stream",
     "text": [
      "['a', 2]\n",
      "<class 'list'>\n",
      "<class 'list'>\n"
     ]
    }
   ],
   "source": [
    "expression = \"['a',2]\"\n",
    "output = literal_eval(expression)\n",
    "print(output)\n",
    "print(type(output))\n",
    "print(type(eval(expression)))"
   ]
  },
  {
   "cell_type": "code",
   "execution_count": 197,
   "id": "8fc42c0e",
   "metadata": {},
   "outputs": [
    {
     "name": "stdout",
     "output_type": "stream",
     "text": [
      "a + 2\n",
      "4\n",
      "<class 'int'>\n"
     ]
    }
   ],
   "source": [
    "a=2\n",
    "exp = \"a + 2\"\n",
    "print(exp)\n",
    "print(eval(exp))\n",
    "print(type(eval(exp)))\n",
    "# print(literal_eval(exp)) #gives error, as operators are not allowed\n"
   ]
  },
  {
   "cell_type": "code",
   "execution_count": null,
   "id": "15f946f0",
   "metadata": {},
   "outputs": [],
   "source": []
  }
 ],
 "metadata": {
  "kernelspec": {
   "display_name": "Python 3 (ipykernel)",
   "language": "python",
   "name": "python3"
  },
  "language_info": {
   "codemirror_mode": {
    "name": "ipython",
    "version": 3
   },
   "file_extension": ".py",
   "mimetype": "text/x-python",
   "name": "python",
   "nbconvert_exporter": "python",
   "pygments_lexer": "ipython3",
   "version": "3.9.12"
  }
 },
 "nbformat": 4,
 "nbformat_minor": 5
}
