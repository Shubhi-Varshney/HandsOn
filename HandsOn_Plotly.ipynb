{
 "cells": [
  {
   "cell_type": "code",
   "execution_count": null,
   "id": "da7c5ff1",
   "metadata": {},
   "outputs": [],
   "source": [
    "import plotly.express as px\n",
    "\n",
    "fig = px.bar(x=['1','2','3'], y = ['a','b','c'])\n",
    "fig.show()\n",
    "#fig.write_html('first_figure.html', auto_open=True)"
   ]
  },
  {
   "cell_type": "code",
   "execution_count": null,
   "id": "3517c427",
   "metadata": {},
   "outputs": [],
   "source": [
    "df = px.data.tips()\n",
    "#df.head\n",
    "\n",
    "fig = px.bar(df, x=[\"Apples\", \"Oranges\"], y=[10,20], color=[\"Here\", \"There\"],\n",
    "    labels=dict(x=\"Fruit\", y=\"Amount\", color=\"Place\")\n",
    ")\n",
    "fig.show()\n"
   ]
  },
  {
   "cell_type": "code",
   "execution_count": null,
   "id": "bed16942",
   "metadata": {},
   "outputs": [],
   "source": [
    "import pandas as pd\n",
    "\n",
    "movies = pd.read_csv('D:\\\\Shubhi\\\\DataScience\\\\MoviesRecommendation\\\\MovieLens_Dataset\\\\movies_metadata_1.csv')\n",
    "moviesDF = pd.DataFrame(movies)\n",
    "\n",
    "moviesDF[moviesDF['release_date'].isna()].shape[0]\n",
    "\n",
    "dist = moviesDF[moviesDF['release_date'].notnull() & moviesDF['status'].notnull()]\n",
    "# dist.shape[0]\n",
    "\n",
    "fig = px.scatter(dist, x=\"release_date\", y= \"budget\", color=\"status\" , hover_data = ['title'])\n",
    "fig.show()\n",
    "\n"
   ]
  },
  {
   "cell_type": "code",
   "execution_count": null,
   "id": "4e8c2542",
   "metadata": {},
   "outputs": [],
   "source": [
    "dist = moviesDF[moviesDF['release_date'].notnull() & moviesDF['status'].notnull()]\n",
    "fig_2 = px.histogram(dist, x = 'release_date', color = 'status', barmode='group', text_auto=True)\n",
    "fig_2.show()"
   ]
  },
  {
   "cell_type": "code",
   "execution_count": null,
   "id": "72328a04",
   "metadata": {},
   "outputs": [],
   "source": [
    "df = px.data.tips()\n",
    "#print(df.head)\n",
    "print(df.groupby('sex').sum()['total_bill'])\n",
    "fig = px.histogram(df, x=\"sex\", y=\"total_bill\",\n",
    "             barmode='group',\n",
    "             height=400)\n",
    "#fig.show()\n",
    "fig.update_layout(yaxis_title='Total Bill', xaxis_title='Gender')\n",
    "\n",
    "# fig1 = px.bar(df, x='sex', y='total_bill', color = 'smoker', barmode='group')\n",
    "# fig1.show()"
   ]
  },
  {
   "cell_type": "code",
   "execution_count": null,
   "id": "34793f1e",
   "metadata": {},
   "outputs": [],
   "source": []
  }
 ],
 "metadata": {
  "kernelspec": {
   "display_name": "Python 3 (ipykernel)",
   "language": "python",
   "name": "python3"
  },
  "language_info": {
   "codemirror_mode": {
    "name": "ipython",
    "version": 3
   },
   "file_extension": ".py",
   "mimetype": "text/x-python",
   "name": "python",
   "nbconvert_exporter": "python",
   "pygments_lexer": "ipython3",
   "version": "3.9.12"
  }
 },
 "nbformat": 4,
 "nbformat_minor": 5
}
